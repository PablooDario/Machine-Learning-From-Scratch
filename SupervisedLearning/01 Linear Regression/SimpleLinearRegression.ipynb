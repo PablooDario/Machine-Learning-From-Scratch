{
 "cells": [
  {
   "cell_type": "markdown",
   "metadata": {},
   "source": [
    "# My Linear Regression vs Sk-learn Linear Regression with Random Data\n",
    "\n",
    "In this notebook I will test the linear regression algorithm I made from scratch vs the Sk-learn Linear Regression, the notebook has the following sections:\n",
    "1. Create the Random Data\n",
    "2. Create my LR Model\n",
    "3. Creathe the Sk-learn LR model\n",
    "5. Compare the results"
   ]
  },
  {
   "cell_type": "code",
   "execution_count": 1,
   "metadata": {},
   "outputs": [],
   "source": [
    "# My Linear Regression Model\n",
    "from linear_regression import myLinearRegression\n",
    "# Utilities from Sk-learn \n",
    "from sklearn.model_selection import train_test_split\n",
    "from sklearn.metrics import mean_squared_error  \n",
    "# Numpy for math computations\n",
    "import numpy as np\n",
    "np.set_printoptions(precision=5)\n",
    "# Print like tabular data\n",
    "from tabulate import tabulate\n",
    "# Plot the data\n",
    "import matplotlib.pyplot as plt"
   ]
  },
  {
   "cell_type": "markdown",
   "metadata": {},
   "source": [
    "## 1. Create the Random Data "
   ]
  },
  {
   "cell_type": "code",
   "execution_count": 2,
   "metadata": {},
   "outputs": [
    {
     "data": {
      "text/plain": [
       "((80, 1), (20, 1), (80, 1), (20, 1))"
      ]
     },
     "execution_count": 2,
     "metadata": {},
     "output_type": "execute_result"
    }
   ],
   "source": [
    "np.random.seed(42)\n",
    "X = np.random.randn(100).reshape(-1,1)\n",
    "weights = np.random.rand()\n",
    "\n",
    "intercept = np.random.randn()\n",
    "noise = (np.random.randn(100) * 0.1).reshape(-1,1)  # Noise with std of 0.1\n",
    "y = np.dot(X, weights) + intercept + noise\n",
    "\n",
    "X_train, X_test, y_train, y_test = train_test_split(X, y, test_size=0.2, random_state=42)\n",
    "X_train.shape, X_test.shape, y_train.shape, y_test.shape"
   ]
  },
  {
   "cell_type": "code",
   "execution_count": 3,
   "metadata": {},
   "outputs": [
    {
     "data": {
      "image/png": "[encoded data removed]",
      "text/plain": [
       "<Figure size 640x480 with 1 Axes>"
      ]
     },
     "metadata": {},
     "output_type": "display_data"
    }
   ],
   "source": [
    "plt.scatter(X_train, y_train, label='Train values')\n",
    "plt.scatter(X_test, y_test, label='Test values')\n",
    "\n",
    "plt.legend()\n",
    "plt.show()"
   ]
  },
  {
   "cell_type": "markdown",
   "metadata": {},
   "source": [
    "## 2. Create my LR model and fit it"
   ]
  },
  {
   "cell_type": "code",
   "execution_count": 4,
   "metadata": {},
   "outputs": [
    {
     "name": "stdout",
     "output_type": "stream",
     "text": [
      "Converged at epoch 337\n"
     ]
    }
   ],
   "source": [
    "model = myLinearRegression()\n",
    "model.fit(X_train, y_train)"
   ]
  },
  {
   "cell_type": "code",
   "execution_count": 5,
   "metadata": {},
   "outputs": [],
   "source": [
    "y_pred = model.predict(X_test)\n",
    "mse = mean_squared_error(y_test, y_pred)"
   ]
  },
  {
   "cell_type": "code",
   "execution_count": 6,
   "metadata": {},
   "outputs": [
    {
     "data": {
      "text/plain": [
       "[0.417411003148779]"
      ]
     },
     "execution_count": 6,
     "metadata": {},
     "output_type": "execute_result"
    }
   ],
   "source": [
    "if isinstance(weights, float):\n",
    "    weights = [weights]\n",
    "weights"
   ]
  },
  {
   "cell_type": "code",
   "execution_count": 7,
   "metadata": {},
   "outputs": [
    {
     "name": "stdout",
     "output_type": "stream",
     "text": [
      "╭──────────┬────────────────┬───────────────────┬───────────────────────╮\n",
      "│ Weight   │   Real weights │   Learned Weights │   Absolute Difference │\n",
      "├──────────┼────────────────┼───────────────────┼───────────────────────┤\n",
      "│ w1       │       0.417411 │          0.433064 │             0.0156528 │\n",
      "╰──────────┴────────────────┴───────────────────┴───────────────────────╯\n"
     ]
    }
   ],
   "source": [
    "weights_table = {\n",
    "    'Weight': [f'w{i+1}' for i in range(len(weights))],\n",
    "    'Real weights': weights, \n",
    "    'Learned Weights': model.weights,\n",
    "    'Absolute difference': np.abs(weights - model.weights.reshape(-1))\n",
    "    }\n",
    "\n",
    "print(tabulate(\n",
    "    weights_table, \n",
    "    headers=['Weight', 'Real weights', 'Learned Weights', 'Absolute Difference'], \n",
    "    tablefmt=\"rounded_grid\")\n",
    "    )"
   ]
  },
  {
   "cell_type": "code",
   "execution_count": 8,
   "metadata": {},
   "outputs": [
    {
     "name": "stdout",
     "output_type": "stream",
     "text": [
      "The intercept is: -0.3716\n",
      "The Mse is 0.0122\n"
     ]
    }
   ],
   "source": [
    "print(f'The intercept is: {model.intercept:.4f}')\n",
    "print(f'The Mse is {mse:.4f}')"
   ]
  },
  {
   "cell_type": "markdown",
   "metadata": {},
   "source": [
    "###  Create the Sk-learn LR model "
   ]
  },
  {
   "cell_type": "code",
   "execution_count": 9,
   "metadata": {},
   "outputs": [
    {
     "name": "stderr",
     "output_type": "stream",
     "text": [
      "/Library/Frameworks/Python.framework/Versions/3.12/lib/python3.12/site-packages/sklearn/utils/validation.py:1300: DataConversionWarning: A column-vector y was passed when a 1d array was expected. Please change the shape of y to (n_samples, ), for example using ravel().\n",
      "  y = column_or_1d(y, warn=True)\n"
     ]
    }
   ],
   "source": [
    "from sklearn.linear_model import SGDRegressor\n",
    "\n",
    "sklearn_model = SGDRegressor()\n",
    "sklearn_model.fit(X_train, y_train)\n",
    "y_pred = sklearn_model.predict(X_test)\n",
    "sk_mse = mean_squared_error(y_test, y_pred)"
   ]
  },
  {
   "cell_type": "markdown",
   "metadata": {},
   "source": [
    "## Compare both models"
   ]
  },
  {
   "cell_type": "code",
   "execution_count": 10,
   "metadata": {},
   "outputs": [
    {
     "name": "stdout",
     "output_type": "stream",
     "text": [
      "╭──────────┬─────────────────────────┬────────────────────┬───────────────────────╮\n",
      "│ Weight   │   Scratch Model weights │   Sk-learn Weights │   Absolute Difference │\n",
      "├──────────┼─────────────────────────┼────────────────────┼───────────────────────┤\n",
      "│ w1       │                0.417411 │           0.395929 │             0.0214821 │\n",
      "╰──────────┴─────────────────────────┴────────────────────┴───────────────────────╯\n"
     ]
    }
   ],
   "source": [
    "weights_table = {\n",
    "    'Weight': [f'w{i+1}' for i in range(len(weights))],\n",
    "    'Scratch Model weights': weights, \n",
    "    'Sk-learn weights': sklearn_model.coef_,\n",
    "    'Absolute difference': np.abs(weights - sklearn_model.coef_)\n",
    "    }\n",
    "\n",
    "print(tabulate(\n",
    "    weights_table, \n",
    "    headers=['Weight', 'Scratch Model weights', 'Sk-learn Weights', 'Absolute Difference'], \n",
    "    tablefmt=\"rounded_grid\")\n",
    "    )"
   ]
  },
  {
   "cell_type": "code",
   "execution_count": 11,
   "metadata": {},
   "outputs": [
    {
     "name": "stdout",
     "output_type": "stream",
     "text": [
      "╭───────────────────────────┬──────────────────────┬───────────────────────╮\n",
      "│   Scratch Model intercept │   Sk-learn intercept │   Absolute Difference │\n",
      "├───────────────────────────┼──────────────────────┼───────────────────────┤\n",
      "│                 -0.371647 │            -0.359131 │             0.0125162 │\n",
      "╰───────────────────────────┴──────────────────────┴───────────────────────╯\n"
     ]
    }
   ],
   "source": [
    "print(tabulate(\n",
    "    [[model.intercept, sklearn_model.intercept_, abs(model.intercept - sklearn_model.intercept_)]], \n",
    "    headers=['Scratch Model intercept', 'Sk-learn intercept', 'Absolute Difference'], \n",
    "    tablefmt=\"rounded_grid\")\n",
    "    )"
   ]
  },
  {
   "cell_type": "code",
   "execution_count": 12,
   "metadata": {},
   "outputs": [
    {
     "name": "stdout",
     "output_type": "stream",
     "text": [
      "╭─────────────────────┬────────────────┬───────────────────────╮\n",
      "│   Scratch Model MSE │   Sk-learn MSE │   Absolute Difference │\n",
      "├─────────────────────┼────────────────┼───────────────────────┤\n",
      "│           0.0122203 │      0.0133712 │            0.00115095 │\n",
      "╰─────────────────────┴────────────────┴───────────────────────╯\n"
     ]
    }
   ],
   "source": [
    "print(tabulate(\n",
    "    [[mse, sk_mse, abs(mse - sk_mse)]], \n",
    "    headers=['Scratch Model MSE', 'Sk-learn MSE', 'Absolute Difference'], \n",
    "    tablefmt=\"rounded_grid\")\n",
    "    )"
   ]
  },
  {
   "cell_type": "code",
   "execution_count": 13,
   "metadata": {},
   "outputs": [
    {
     "data": {
      "text/plain": [
       "(array([[0.43306]]), -0.3716472148986002)"
      ]
     },
     "execution_count": 13,
     "metadata": {},
     "output_type": "execute_result"
    }
   ],
   "source": [
    "model.weights, model.intercept"
   ]
  },
  {
   "cell_type": "code",
   "execution_count": 14,
   "metadata": {},
   "outputs": [
    {
     "data": {
      "text/plain": [
       "(array([0.39593]), array([-0.35913]))"
      ]
     },
     "execution_count": 14,
     "metadata": {},
     "output_type": "execute_result"
    }
   ],
   "source": [
    "sklearn_model.coef_, sklearn_model.intercept_"
   ]
  },
  {
   "cell_type": "markdown",
   "metadata": {},
   "source": [
    "### Plot the Regression"
   ]
  },
  {
   "cell_type": "code",
   "execution_count": 15,
   "metadata": {},
   "outputs": [
    {
     "data": {
      "image/png": "[encoded data removed]",
      "text/plain": [
       "<Figure size 640x480 with 1 Axes>"
      ]
     },
     "metadata": {},
     "output_type": "display_data"
    }
   ],
   "source": [
    "plt.scatter(X_train, y_train)\n",
    "plt.plot(X_train, model.predict(X_train), color='red', label=\"Regression Line\")\n",
    "    \n",
    "plt.legend()\n",
    "plt.show()"
   ]
  }
 ],
 "metadata": {
  "kernelspec": {
   "display_name": "Python 3",
   "language": "python",
   "name": "python3"
  },
  "language_info": {
   "codemirror_mode": {
    "name": "ipython",
    "version": 3
   },
   "file_extension": ".py",
   "mimetype": "text/x-python",
   "name": "python",
   "nbconvert_exporter": "python",
   "pygments_lexer": "ipython3",
   "version": "3.12.0"
  }
 },
 "nbformat": 4,
 "nbformat_minor": 2
}
